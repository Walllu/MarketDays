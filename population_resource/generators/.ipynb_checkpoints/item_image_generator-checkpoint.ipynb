{
 "cells": [
  {
   "cell_type": "code",
   "execution_count": 42,
   "metadata": {},
   "outputs": [],
   "source": [
    "import glob, os\n",
    "\n",
    "def rename(dir, pattern):\n",
    "    num = 1\n",
    "    for pathAndFilename in glob.iglob(os.path.join(dir, pattern)):\n",
    "        title, ext = os.path.splitext(os.path.basename(pathAndFilename))\n",
    "        os.rename(pathAndFilename, \n",
    "                  os.path.join(dir, str(num) + ext))\n",
    "        num += 1\n",
    "        \n",
    "rename(r'C:\\Users\\Toxo\\Desktop\\101_ObjectCategories', r'*.jpg')"
   ]
  },
  {
   "cell_type": "code",
   "execution_count": 41,
   "metadata": {},
   "outputs": [],
   "source": [
    "import glob, os\n",
    "from shutil import move\n",
    "\n",
    "first = True\n",
    "\n",
    "path = \"Desktop/101_ObjectCategories\"\n",
    "for root, dirs, files in os.walk(path):\n",
    "    if first != True:\n",
    "        folder = root.split(\"\\\\\")[1]\n",
    "        num = 1\n",
    "        for name in files:\n",
    "            if name.endswith((\".jpg\")):\n",
    "                # print path + \"/\" + folder + \"/\" + name\n",
    "                os.rename(path + \"/\" + folder + \"/\" + name, path + \"/\" + folder + \"/\" + str(num) + \".jpg\")\n",
    "                move(path + \"/\" + folder + \"/\" + str(num) + \".jpg\", path + \"/\" + name)\n",
    "                num += 1\n",
    "    first = False"
   ]
  }
 ],
 "metadata": {
  "kernelspec": {
   "display_name": "Python 2",
   "language": "python",
   "name": "python2"
  },
  "language_info": {
   "codemirror_mode": {
    "name": "ipython",
    "version": 2
   },
   "file_extension": ".py",
   "mimetype": "text/x-python",
   "name": "python",
   "nbconvert_exporter": "python",
   "pygments_lexer": "ipython2",
   "version": "2.7.14"
  }
 },
 "nbformat": 4,
 "nbformat_minor": 2
}
