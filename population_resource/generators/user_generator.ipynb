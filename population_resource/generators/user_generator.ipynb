{
 "cells": [
  {
   "cell_type": "code",
   "execution_count": 1,
   "metadata": {
    "scrolled": false
   },
   "outputs": [],
   "source": [
    "f = open(\"../data/advs.txt\")\n",
    "text = \"\"\n",
    "for line in f:\n",
    "    text += line\n",
    "f.close()\n",
    "text = text.replace(\"\\t\", \"\")\n",
    "text = text.replace(\"     \", \"\")\n",
    "text = text.replace(\"\\n\", \" \")\n",
    "text = text.replace(\"  \", \" \")\n",
    "\n",
    "g = open(\"../data/bios.txt\", \"w\")\n",
    "g.write(text)\n",
    "g.close()"
   ]
  },
  {
   "cell_type": "code",
   "execution_count": 2,
   "metadata": {},
   "outputs": [],
   "source": [
    "import random\n",
    "random.seed(9001)\n",
    "\n",
    "f = open(\"../data/MOCK_DATA.csv\")\n",
    "arr = []\n",
    "for line in f:\n",
    "    line = line[:-13]\n",
    "    arr.append(line)\n",
    "f.close()\n",
    "f = open(\"../data/bios.txt\")\n",
    "text = \"\"\n",
    "for line in f:\n",
    "    text += line\n",
    "f.close()\n",
    "users = {}\n",
    "for usr in arr[1:101]:\n",
    "    date = \"2017\"\n",
    "    day = str(random.randint(1,30))\n",
    "    if len(day) == 1:\n",
    "        day = \"0\" + day\n",
    "    month = str(random.randint(6,12))\n",
    "    if len(month) == 1:\n",
    "        month = \"0\" + month\n",
    "    date = date + \"-\" + month + \"-\" + day\n",
    "    details = usr.split(\",\")\n",
    "    username = details[3].split(\"@\")\n",
    "    users[details[0]] = {}\n",
    "    users[details[0]]['fname'] = details[1]\n",
    "    users[details[0]]['lname'] = details[2]\n",
    "    users[details[0]]['email'] = details[3]\n",
    "    users[details[0]]['phone'] = \"0\" + details[4]\n",
    "    users[details[0]]['bio'] = text[:100]\n",
    "    users[details[0]]['interests'] = text[100:200]\n",
    "    users[details[0]]['date'] = date\n",
    "    users[details[0]]['uname'] = username[0]\n",
    "    users[details[0]]['password'] = \"password\"\n",
    "    text = text[200:]\n",
    "          \n",
    "output = []\n",
    "for user in users:\n",
    "    line = \"\"\n",
    "    line += users[user]['uname'] + \"\\t\"\n",
    "    line += users[user]['fname'] + \"\\t\"\n",
    "    line += users[user]['lname'] + \"\\t\"\n",
    "    line += users[user]['email'] + \"\\t\"\n",
    "    line += users[user]['phone'] + \"\\t\"\n",
    "    line += users[user]['bio'] + \"\\t\"\n",
    "    line += users[user]['interests'] + \"\\t\"\n",
    "    line += users[user]['password'] + \"\\t\"\n",
    "    line += users[user]['date']\n",
    "    output.append(line)\n",
    "    \n",
    "f = open(\"../data/users.txt\", \"w\")\n",
    "for user in output:\n",
    "    f.write(user + \"\\n\")\n",
    "f.close()"
   ]
  }
 ],
 "metadata": {
  "kernelspec": {
   "display_name": "Python 2",
   "language": "python",
   "name": "python2"
  },
  "language_info": {
   "codemirror_mode": {
    "name": "ipython",
    "version": 2
   },
   "file_extension": ".py",
   "mimetype": "text/x-python",
   "name": "python",
   "nbconvert_exporter": "python",
   "pygments_lexer": "ipython2",
   "version": "2.7.14"
  }
 },
 "nbformat": 4,
 "nbformat_minor": 2
}
